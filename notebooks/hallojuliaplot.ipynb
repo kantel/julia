{
  "cells": [
    {
      "cell_type": "markdown",
      "source": [
        "# Hallo Julia 👩‍-Plot"
      ],
      "metadata": {
        "nteract": {
          "transient": {
            "deleting": false
          }
        }
      }
    },
    {
      "cell_type": "markdown",
      "source": [
        "Zuerst muß der Paket-Manager von Julia importiert werden:"
      ],
      "metadata": {
        "nteract": {
          "transient": {
            "deleting": false
          }
        }
      }
    },
    {
      "cell_type": "code",
      "source": [
        "using Pkg"
      ],
      "outputs": [],
      "execution_count": 7,
      "metadata": {
        "collapsed": true,
        "outputExpanded": false,
        "jupyter": {
          "source_hidden": false,
          "outputs_hidden": false
        },
        "nteract": {
          "transient": {
            "deleting": false
          }
        },
        "execution": {
          "iopub.status.busy": "2020-08-01T17:36:03.679Z",
          "iopub.execute_input": "2020-08-01T17:36:03.698Z",
          "iopub.status.idle": "2020-08-01T17:36:04.078Z"
        }
      }
    },
    {
      "cell_type": "markdown",
      "source": [
        "Dann wird das Paket `Plots` und das Paket `PyPlot` hinzugefügt."
      ],
      "metadata": {
        "nteract": {
          "transient": {
            "deleting": false
          }
        }
      }
    },
    {
      "cell_type": "code",
      "source": [
        "Pkg.add(\"Plots\")"
      ],
      "outputs": [
        {
          "output_type": "stream",
          "name": "stdout",
          "text": [
            "\u001b[32m\u001b[1m Resolving\u001b[22m\u001b[39m package versions...\n",
            "\u001b[32m\u001b[1m  Updating\u001b[22m\u001b[39m `~/.julia/environments/v1.0/Project.toml`\n",
            "\u001b[90m [no changes]\u001b[39m\n",
            "\u001b[32m\u001b[1m  Updating\u001b[22m\u001b[39m `~/.julia/environments/v1.0/Manifest.toml`\n",
            "\u001b[90m [no changes]\u001b[39m\n"
          ]
        },
        {
          "output_type": "stream",
          "name": "stderr",
          "text": [
            "┌ Warning: julia version requirement for package PackageCompiler not satisfied\n",
            "└ @ Pkg.Operations /Users/julia/buildbot/worker/package_macos64/build/usr/share/julia/stdlib/v1.0/Pkg/src/Operations.jl:153\n"
          ]
        }
      ],
      "execution_count": 8,
      "metadata": {
        "collapsed": true,
        "outputExpanded": false,
        "jupyter": {
          "source_hidden": false,
          "outputs_hidden": false
        },
        "nteract": {
          "transient": {
            "deleting": false
          }
        },
        "execution": {
          "iopub.status.busy": "2020-08-01T17:36:04.094Z",
          "iopub.execute_input": "2020-08-01T17:36:04.103Z",
          "iopub.status.idle": "2020-08-01T17:36:23.471Z"
        }
      }
    },
    {
      "cell_type": "code",
      "source": [
        "Pkg.add(\"PyPlot\")"
      ],
      "outputs": [
        {
          "output_type": "stream",
          "name": "stdout",
          "text": [
            "\u001b[32m\u001b[1m Resolving\u001b[22m\u001b[39m package versions...\n",
            "\u001b[32m\u001b[1m  Updating\u001b[22m\u001b[39m `~/.julia/environments/v1.0/Project.toml`\n",
            "\u001b[90m [no changes]\u001b[39m\n",
            "\u001b[32m\u001b[1m  Updating\u001b[22m\u001b[39m `~/.julia/environments/v1.0/Manifest.toml`\n",
            "\u001b[90m [no changes]\u001b[39m\n"
          ]
        },
        {
          "output_type": "stream",
          "name": "stderr",
          "text": [
            "┌ Warning: julia version requirement for package PackageCompiler not satisfied\n",
            "└ @ Pkg.Operations /Users/julia/buildbot/worker/package_macos64/build/usr/share/julia/stdlib/v1.0/Pkg/src/Operations.jl:153\n"
          ]
        }
      ],
      "execution_count": 9,
      "metadata": {
        "collapsed": true,
        "outputExpanded": false,
        "jupyter": {
          "source_hidden": false,
          "outputs_hidden": false
        },
        "nteract": {
          "transient": {
            "deleting": false
          }
        },
        "execution": {
          "iopub.status.busy": "2020-08-01T17:36:23.489Z",
          "iopub.execute_input": "2020-08-01T17:36:23.501Z",
          "iopub.status.idle": "2020-08-01T17:36:23.953Z"
        }
      }
    },
    {
      "cell_type": "markdown",
      "source": [
        "Dann teilt man Julia 👩‍ mit, daß man das Paket `Plots` auch benutzen möchte. Eventuell möchte Julia das Paket neukompilieren. Das kann dauern."
      ],
      "metadata": {
        "nteract": {
          "transient": {
            "deleting": false
          }
        }
      }
    },
    {
      "cell_type": "code",
      "source": [
        "using Plots"
      ],
      "outputs": [],
      "execution_count": 10,
      "metadata": {
        "collapsed": true,
        "outputExpanded": false,
        "jupyter": {
          "source_hidden": false,
          "outputs_hidden": false
        },
        "nteract": {
          "transient": {
            "deleting": false
          }
        },
        "execution": {
          "iopub.status.busy": "2020-08-01T17:36:23.967Z",
          "iopub.execute_input": "2020-08-01T17:36:23.977Z",
          "iopub.status.idle": "2020-08-01T17:36:23.994Z"
        }
      }
    },
    {
      "cell_type": "markdown",
      "source": [
        "Auch `pyplot()` möchte unter Umständen von Julia neu kompiliert werden. Das kann natürlich ebenfalls dauern."
      ],
      "metadata": {
        "nteract": {
          "transient": {
            "deleting": false
          }
        }
      }
    },
    {
      "cell_type": "code",
      "source": [
        "pyplot()"
      ],
      "outputs": [
        {
          "output_type": "execute_result",
          "execution_count": 11,
          "data": {
            "text/plain": "Plots.PyPlotBackend()"
          },
          "metadata": {}
        }
      ],
      "execution_count": 11,
      "metadata": {
        "collapsed": true,
        "outputExpanded": false,
        "jupyter": {
          "source_hidden": false,
          "outputs_hidden": false
        },
        "nteract": {
          "transient": {
            "deleting": false
          }
        },
        "execution": {
          "iopub.status.busy": "2020-08-01T17:36:24.015Z",
          "iopub.execute_input": "2020-08-01T17:36:24.027Z",
          "iopub.status.idle": "2020-08-01T17:36:24.190Z"
        }
      }
    },
    {
      "cell_type": "markdown",
      "source": [
        "Aber jetzt können wir endlich plotten."
      ],
      "metadata": {
        "nteract": {
          "transient": {
            "deleting": false
          }
        }
      }
    },
    {
      "cell_type": "code",
      "source": [
        "plot(sin, -2pi, pi, label = \"Sinus\")"
      ],
      "outputs": [
        {
          "output_type": "execute_result",
          "execution_count": 12,
          "data": {
            "image/png": "[encoded data removed]"
          },
          "metadata": {}
        }
      ],
      "execution_count": 12,
      "metadata": {
        "collapsed": true,
        "outputExpanded": false,
        "jupyter": {
          "source_hidden": false,
          "outputs_hidden": false
        },
        "nteract": {
          "transient": {
            "deleting": false
          }
        },
        "execution": {
          "iopub.status.busy": "2020-08-01T17:36:24.205Z",
          "iopub.execute_input": "2020-08-01T17:36:24.214Z",
          "iopub.status.idle": "2020-08-01T17:36:24.323Z"
        }
      }
    },
    {
      "cell_type": "markdown",
      "source": [
        "Aber unter normalen Umständen merkt sich Julia innerhalb einer `nteract`-Session, was schon importiert und kompiliert wurde, dann läuft alles recht schnell ab. Daher Vorsicht mit `Restart Kernel`."
      ],
      "metadata": {
        "nteract": {
          "transient": {
            "deleting": false
          }
        }
      }
    },
    {
      "cell_type": "code",
      "source": [],
      "outputs": [],
      "execution_count": null,
      "metadata": {
        "collapsed": true,
        "outputExpanded": false,
        "jupyter": {
          "source_hidden": false,
          "outputs_hidden": false
        },
        "nteract": {
          "transient": {
            "deleting": false
          }
        }
      }
    }
  ],
  "metadata": {
    "kernel_info": {
      "name": "julia-1.0"
    },
    "language_info": {
      "file_extension": ".jl",
      "name": "julia",
      "mimetype": "application/julia",
      "version": "1.0.5"
    },
    "kernelspec": {
      "argv": [
        "/Applications/Julia-1.0.app/Contents/Resources/julia/bin/julia",
        "-i",
        "--startup-file=yes",
        "--color=yes",
        "--project=@.",
        "/Users/admin/.julia/packages/IJulia/DrVMH/src/kernel.jl",
        "{connection_file}"
      ],
      "display_name": "Julia 1.0.5",
      "env": {},
      "interrupt_mode": "signal",
      "language": "julia",
      "name": "julia-1.0"
    },
    "nteract": {
      "version": "0.24.1"
    }
  },
  "nbformat": 4,
  "nbformat_minor": 0
}